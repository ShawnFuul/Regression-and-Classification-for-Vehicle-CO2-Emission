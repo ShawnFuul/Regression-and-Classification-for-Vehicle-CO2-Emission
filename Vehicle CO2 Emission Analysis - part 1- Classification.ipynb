{
 "cells": [
  {
   "cell_type": "markdown",
   "metadata": {},
   "source": [
    "# Vehicle CO2 Emission Analysis and Prediction Part-1\n",
    "### Introduction\n",
    "The content of this project is similar to my previous job, which requires me to find the relationships between vehicle information (or other environmental parameters) and the gas emissions. The models of Classification and Clustering are very powerful and useful tools for environmental data analysis. \n",
    "In this project:\n",
    " * From the components of a vehicle, estimate the CO2 Emissions with K-NearestNeighbor(KNN) method, other than detecting the fuel_combustion information (which directly contributes to CO2 Emissions), it would help customers to choose environmental-friendly vehicles quickly.\n",
    " * Analysis the relationship between fuel_combustion data and CO2 Emission, build regression model for prediction.\n",
    " * Optimize the prediction of CO2 Emissions by comparison and the application of Random Forest model and XGBoost model."
   ]
  },
  {
   "cell_type": "code",
   "execution_count": 1,
   "metadata": {},
   "outputs": [],
   "source": [
    "# import libraries\n",
    "import wget\n",
    "import pandas as pd\n",
    "import numpy as np\n",
    "import matplotlib.pyplot as plt\n",
    "import seaborn as sns\n",
    "%matplotlib inline"
   ]
  },
  {
   "cell_type": "markdown",
   "metadata": {},
   "source": [
    "## 1. Prepare the data"
   ]
  },
  {
   "cell_type": "code",
   "execution_count": 2,
   "metadata": {},
   "outputs": [
    {
     "name": "stdout",
     "output_type": "stream",
     "text": [
      "\r",
      "  0% [                                                                              ]     0 / 72629\r",
      " 11% [........                                                                      ]  8192 / 72629\r",
      " 22% [.................                                                             ] 16384 / 72629\r",
      " 33% [..........................                                                    ] 24576 / 72629\r",
      " 45% [...................................                                           ] 32768 / 72629\r",
      " 56% [...........................................                                   ] 40960 / 72629\r",
      " 67% [....................................................                          ] 49152 / 72629\r",
      " 78% [.............................................................                 ] 57344 / 72629\r",
      " 90% [......................................................................        ] 65536 / 72629\r",
      "100% [..............................................................................] 72629 / 72629"
     ]
    }
   ],
   "source": [
    "# In practice, researchers often collect environmental data by their own, and the data belong to whom applu the fundings (academy or company)\n",
    "# Here I use an online course source of vehicle CO2 emission data as the example of analysis:\n",
    "url ='https://s3-api.us-geo.objectstorage.softlayer.net/cf-courses-data/CognitiveClass/ML0101ENv3/labs/FuelConsumptionCo2.csv'\n",
    "file = wget.download(url)"
   ]
  },
  {
   "cell_type": "code",
   "execution_count": 3,
   "metadata": {},
   "outputs": [
    {
     "data": {
      "text/html": [
       "<div>\n",
       "<style scoped>\n",
       "    .dataframe tbody tr th:only-of-type {\n",
       "        vertical-align: middle;\n",
       "    }\n",
       "\n",
       "    .dataframe tbody tr th {\n",
       "        vertical-align: top;\n",
       "    }\n",
       "\n",
       "    .dataframe thead th {\n",
       "        text-align: right;\n",
       "    }\n",
       "</style>\n",
       "<table border=\"1\" class=\"dataframe\">\n",
       "  <thead>\n",
       "    <tr style=\"text-align: right;\">\n",
       "      <th></th>\n",
       "      <th>MODELYEAR</th>\n",
       "      <th>MAKE</th>\n",
       "      <th>MODEL</th>\n",
       "      <th>VEHICLECLASS</th>\n",
       "      <th>ENGINESIZE</th>\n",
       "      <th>CYLINDERS</th>\n",
       "      <th>TRANSMISSION</th>\n",
       "      <th>FUELTYPE</th>\n",
       "      <th>FUELCONSUMPTION_CITY</th>\n",
       "      <th>FUELCONSUMPTION_HWY</th>\n",
       "      <th>FUELCONSUMPTION_COMB</th>\n",
       "      <th>FUELCONSUMPTION_COMB_MPG</th>\n",
       "      <th>CO2EMISSIONS</th>\n",
       "    </tr>\n",
       "  </thead>\n",
       "  <tbody>\n",
       "    <tr>\n",
       "      <th>0</th>\n",
       "      <td>2014</td>\n",
       "      <td>ACURA</td>\n",
       "      <td>ILX</td>\n",
       "      <td>COMPACT</td>\n",
       "      <td>2.0</td>\n",
       "      <td>4</td>\n",
       "      <td>AS5</td>\n",
       "      <td>Z</td>\n",
       "      <td>9.9</td>\n",
       "      <td>6.7</td>\n",
       "      <td>8.5</td>\n",
       "      <td>33</td>\n",
       "      <td>196</td>\n",
       "    </tr>\n",
       "    <tr>\n",
       "      <th>1</th>\n",
       "      <td>2014</td>\n",
       "      <td>ACURA</td>\n",
       "      <td>ILX</td>\n",
       "      <td>COMPACT</td>\n",
       "      <td>2.4</td>\n",
       "      <td>4</td>\n",
       "      <td>M6</td>\n",
       "      <td>Z</td>\n",
       "      <td>11.2</td>\n",
       "      <td>7.7</td>\n",
       "      <td>9.6</td>\n",
       "      <td>29</td>\n",
       "      <td>221</td>\n",
       "    </tr>\n",
       "    <tr>\n",
       "      <th>2</th>\n",
       "      <td>2014</td>\n",
       "      <td>ACURA</td>\n",
       "      <td>ILX HYBRID</td>\n",
       "      <td>COMPACT</td>\n",
       "      <td>1.5</td>\n",
       "      <td>4</td>\n",
       "      <td>AV7</td>\n",
       "      <td>Z</td>\n",
       "      <td>6.0</td>\n",
       "      <td>5.8</td>\n",
       "      <td>5.9</td>\n",
       "      <td>48</td>\n",
       "      <td>136</td>\n",
       "    </tr>\n",
       "    <tr>\n",
       "      <th>3</th>\n",
       "      <td>2014</td>\n",
       "      <td>ACURA</td>\n",
       "      <td>MDX 4WD</td>\n",
       "      <td>SUV - SMALL</td>\n",
       "      <td>3.5</td>\n",
       "      <td>6</td>\n",
       "      <td>AS6</td>\n",
       "      <td>Z</td>\n",
       "      <td>12.7</td>\n",
       "      <td>9.1</td>\n",
       "      <td>11.1</td>\n",
       "      <td>25</td>\n",
       "      <td>255</td>\n",
       "    </tr>\n",
       "    <tr>\n",
       "      <th>4</th>\n",
       "      <td>2014</td>\n",
       "      <td>ACURA</td>\n",
       "      <td>RDX AWD</td>\n",
       "      <td>SUV - SMALL</td>\n",
       "      <td>3.5</td>\n",
       "      <td>6</td>\n",
       "      <td>AS6</td>\n",
       "      <td>Z</td>\n",
       "      <td>12.1</td>\n",
       "      <td>8.7</td>\n",
       "      <td>10.6</td>\n",
       "      <td>27</td>\n",
       "      <td>244</td>\n",
       "    </tr>\n",
       "  </tbody>\n",
       "</table>\n",
       "</div>"
      ],
      "text/plain": [
       "   MODELYEAR   MAKE       MODEL VEHICLECLASS  ENGINESIZE  CYLINDERS  \\\n",
       "0       2014  ACURA         ILX      COMPACT         2.0          4   \n",
       "1       2014  ACURA         ILX      COMPACT         2.4          4   \n",
       "2       2014  ACURA  ILX HYBRID      COMPACT         1.5          4   \n",
       "3       2014  ACURA     MDX 4WD  SUV - SMALL         3.5          6   \n",
       "4       2014  ACURA     RDX AWD  SUV - SMALL         3.5          6   \n",
       "\n",
       "  TRANSMISSION FUELTYPE  FUELCONSUMPTION_CITY  FUELCONSUMPTION_HWY  \\\n",
       "0          AS5        Z                   9.9                  6.7   \n",
       "1           M6        Z                  11.2                  7.7   \n",
       "2          AV7        Z                   6.0                  5.8   \n",
       "3          AS6        Z                  12.7                  9.1   \n",
       "4          AS6        Z                  12.1                  8.7   \n",
       "\n",
       "   FUELCONSUMPTION_COMB  FUELCONSUMPTION_COMB_MPG  CO2EMISSIONS  \n",
       "0                   8.5                        33           196  \n",
       "1                   9.6                        29           221  \n",
       "2                   5.9                        48           136  \n",
       "3                  11.1                        25           255  \n",
       "4                  10.6                        27           244  "
      ]
     },
     "execution_count": 3,
     "metadata": {},
     "output_type": "execute_result"
    }
   ],
   "source": [
    "# check the data intergrity and validation (see if it includes errors, or unformated values, etc.)\n",
    "df = pd.read_csv(file)\n",
    "df.head()"
   ]
  },
  {
   "cell_type": "code",
   "execution_count": 4,
   "metadata": {},
   "outputs": [],
   "source": [
    "# check how many distinct items in each category\n",
    "# for c in df.columns:\n",
    "#     print(\"---- %s ---\" % c)\n",
    "#     print(df[c].value_counts())"
   ]
  },
  {
   "cell_type": "markdown",
   "metadata": {},
   "source": [
    "## 2. Find the relationship between Vehicle components and CO2 Emissions\n",
    "A very straightforward way to analysis data is firstly plot the data, \n",
    "because the plot figure could immediately exhibit trends and tendacy to analyst, and reward a quick opinion for building a analysis strategy."
   ]
  },
  {
   "cell_type": "code",
   "execution_count": 5,
   "metadata": {
    "scrolled": false
   },
   "outputs": [
    {
     "data": {
      "image/png": "[encoded data removed]",
      "text/plain": [
       "<Figure size 1080x720 with 6 Axes>"
      ]
     },
     "metadata": {
      "needs_background": "light"
     },
     "output_type": "display_data"
    }
   ],
   "source": [
    "# find the relations between vehicle categorical parameters and CO2 Emission\n",
    "x1 = df[['MAKE','VEHICLECLASS','ENGINESIZE','CYLINDERS','TRANSMISSION','FUELTYPE']]\n",
    "y1 = df['CO2EMISSIONS']\n",
    "# get a plotframe, make sure there are enough space for each plot (determined by the item number in category)\n",
    "fig = plt.figure(figsize = (15,10))\n",
    "ax1 = plt.subplot2grid((3,4),(0,0), colspan = 1, rowspan = 3)\n",
    "ax2 = plt.subplot2grid((3,4),(0,3), colspan = 1, rowspan = 3)\n",
    "ax3 = plt.subplot2grid((3,4),(0,1))\n",
    "ax4 = plt.subplot2grid((3,4),(0,2))\n",
    "ax5 = plt.subplot2grid((3,4),(1,1), colspan = 2, rowspan = 1)\n",
    "ax6 = plt.subplot2grid((3,4),(2,1), colspan = 2, rowspan = 1)\n",
    "\n",
    "# Make\n",
    "ax1.barh(x1.MAKE, y1, height =0.8, color = 'fuchsia')\n",
    "ax1.set_title('Make vs CO2 Emission',fontsize = 12)\n",
    "\n",
    "# Vehicle class\n",
    "ax2.barh(x1.VEHICLECLASS, y1, height =0.8, color = 'indigo')\n",
    "ax2.set_title('Vehicle Class vs CO2 Emission',fontsize = 12)\n",
    "ax2.invert_xaxis()\n",
    "ax2.yaxis.tick_right()\n",
    "\n",
    "# Engine Size\n",
    "ax3.scatter(x1.ENGINESIZE,y1, color = 'green')\n",
    "ax3.set_title('Engine Size vs CO2 Emission')\n",
    "\n",
    "# Cylinders\n",
    "ax4.scatter(x1.CYLINDERS,y1)\n",
    "ax4.set_title('Cylinders vs CO2 Emission')\n",
    "\n",
    "# Transmission\n",
    "ax5.bar(x1.TRANSMISSION,y1, color = 'coral')\n",
    "ax5.set_xticklabels(x1.TRANSMISSION,rotation = 90)\n",
    "ax5.set_title('Transmission vs CO2 Emission')\n",
    "\n",
    "# Fuel Type\n",
    "ax6.bar(x1.FUELTYPE,y1, color = 'gold')\n",
    "ax6.set_title('Fuel Type vs CO2 Emission')\n",
    "\n",
    "plt.subplots_adjust(wspace= 0.2, hspace = 0.6)\n",
    "plt.show()"
   ]
  },
  {
   "cell_type": "markdown",
   "metadata": {},
   "source": [
    "### A first impression of each attribute\n",
    "* The EngineSize and Cylinders both seemed to closely relate to CO2 Emission, the higher their values, the more CO2 emissions.\n",
    "* Cylinders vs. CO2 emission have a trend correlates to the sizes of Cylinder, but it doesn't look like linear relation but more like a classification. The reason why this trends is obviouse may be due to the clear order of Cylinder size.\n",
    "* It means that the other attributes could have likely trends if their categories in a well-order.\n",
    "* The Engine Size vs. CO2 emission plot is seemly a linear relation."
   ]
  },
  {
   "cell_type": "code",
   "execution_count": 6,
   "metadata": {},
   "outputs": [
    {
     "name": "stdout",
     "output_type": "stream",
     "text": [
      "Coefficients:  [[39.58826069]]\n",
      "Intercept:  [123.88669868]\n"
     ]
    }
   ],
   "source": [
    "# The analysis begin with fitting data of the engine size vs. CO2 emissions with linear regression model and check the accuracy\n",
    "engine_data = df[['ENGINESIZE','CO2EMISSIONS']]\n",
    "\n",
    "# The Equation of Linear Regression is as Y = KX + be\n",
    "# Generally this model emphasizes on finding the K(coefficients) and b(intercept)\n",
    "from sklearn import linear_model\n",
    "\n",
    "# First of all, split the big dataset, because Machine learning model should have some data for training (normally 80%) \n",
    "# and the rest(20%) for test the model\n",
    "model = np.random.rand(len(engine_data)) <= 0.8\n",
    "engine_train = engine_data[model]\n",
    "engine_test = engine_data[~model]\n",
    "\n",
    "engine_reg = linear_model.LinearRegression()\n",
    "engine_train_x = np.asanyarray(engine_train[['ENGINESIZE']])\n",
    "engine_train_y = np.asanyarray(engine_train[['CO2EMISSIONS']])\n",
    "engine_reg.fit(engine_train_x, engine_train_y)\n",
    "\n",
    "# Calculate the coefficients,finding K and b \n",
    "print ('Coefficients: ', engine_reg.coef_)\n",
    "print ('Intercept: ',engine_reg.intercept_)"
   ]
  },
  {
   "cell_type": "code",
   "execution_count": 7,
   "metadata": {},
   "outputs": [
    {
     "name": "stdout",
     "output_type": "stream",
     "text": [
      "Mean absolute error(MAE): 24.80\n",
      "Mean square error(MSE): 1090.99\n",
      "R2-score: 0.69\n"
     ]
    }
   ],
   "source": [
    "# Now use the test set for examing the R2-score (the value which shows how good it fits your training data)\n",
    "from sklearn.metrics import r2_score\n",
    "\n",
    "engine_test_x = np.asanyarray(engine_test[['ENGINESIZE']])\n",
    "engine_test_y = np.asanyarray(engine_test[['CO2EMISSIONS']])\n",
    "engine_test_y_hat = engine_reg.predict(engine_test_x)\n",
    "\n",
    "# Mean absolute error(MAE) tells the range of an error that can be expected on average\n",
    "print(\"Mean absolute error(MAE): %.2f\" % np.mean(np.absolute(engine_test_y_hat - engine_test_y)))\n",
    "\n",
    "# Mean square error(MSE) corresponding to the expected value of the squared error loss\n",
    "print(\"Mean square error(MSE): %.2f\" % np.mean((engine_test_y_hat - engine_test_y) ** 2))\n",
    "\n",
    "# R2 score is the value shows how good it fits the training data, the closer R to 1, the better.\n",
    "print(\"R2-score: %.2f\" % r2_score(engine_test_y_hat , engine_test_y) )"
   ]
  },
  {
   "cell_type": "code",
   "execution_count": 8,
   "metadata": {},
   "outputs": [
    {
     "data": {
      "text/plain": [
       "<matplotlib.legend.Legend at 0x177d58098c8>"
      ]
     },
     "execution_count": 8,
     "metadata": {},
     "output_type": "execute_result"
    },
    {
     "data": {
      "image/png": "[encoded data removed]",
      "text/plain": [
       "<Figure size 864x360 with 1 Axes>"
      ]
     },
     "metadata": {
      "needs_background": "light"
     },
     "output_type": "display_data"
    }
   ],
   "source": [
    "# plot the linear regression line\n",
    "plt.figure(figsize = (12,5))\n",
    "plt.scatter(engine_data.ENGINESIZE, engine_data.CO2EMISSIONS, color='Green')\n",
    "plt.title('Linear Regression Fit for CO2 Emission by Engine Size')\n",
    "plt.xlim(0,10)\n",
    "plt.ylim(0,600)\n",
    "plt.plot(engine_train_x, engine_reg.coef_[0]*engine_train_x + engine_reg.intercept_[0], '-r', \n",
    "         label = 'Y = {}X + {} \\n R2 = {}'.format(engine_reg.coef_[0][0].round(2),\n",
    "                                                  engine_reg.intercept_[0].round(2),\n",
    "                                                  r2_score(engine_test_y_hat , engine_test_y).round(3)))\n",
    "plt.xlabel(\"Engine Size\")\n",
    "plt.ylabel(\"CO2 Emission\")\n",
    "plt.legend(loc = 'best')"
   ]
  },
  {
   "cell_type": "markdown",
   "metadata": {},
   "source": [
    "###  Linear regression identifies the equation that produces the smallest difference between all of the observed values and their fitted values\n",
    "* R2 = (Exlained variance by the model/Total Variance), the more its value close to 1, the model is better fitting.\n",
    "* The linear regression interpret this correlation as CO2 Emission = Engine Size * 39.33 + 125.05\n",
    "* The K and b could be changed very slightly because we choose the train sets and test sets randomly\n",
    "* An ideal linear regression model should have a R2 value >= 0.99, however in reality, the outcomes always involved with many factors\n",
    "* R2 = 0.74 is a considerable linear regression accuracy in practice\n",
    "* So the engine size may hahve a positive linear relation with CO2 emissions (increase and decrease in the same time.)"
   ]
  },
  {
   "cell_type": "markdown",
   "metadata": {},
   "source": [
    "## 3. K-NearestNeighbor (K-NN) model for classification\n",
    "\n",
    "K-NN is a non-parametric (non numeric) method used for classification and regression. K is a constant that defines the length of similar features, so as to classificate features into new categories: \n",
    "* In K-NN classification, the output is a class membership. An object is classified by a plurality vote of its neighbors, with the object being assigned to the class most common among its k nearest neighbors (k is a positive integer, typically small). If k = 1, then the object is simply assigned to the class of that single nearest neighbor.\n",
    "* In K-NN regression, the output is the property value for the object. This value is the average of the values of k nearest neighbors."
   ]
  },
  {
   "cell_type": "markdown",
   "metadata": {},
   "source": [
    "### 3.1 Encode the data\n",
    "Encoding is the process of converting text or boolean values to numerical values for processing."
   ]
  },
  {
   "cell_type": "code",
   "execution_count": 9,
   "metadata": {},
   "outputs": [],
   "source": [
    "# Import K-NN tool\n",
    "from sklearn import preprocessing\n",
    "\n",
    "# Separate the features and the measurement\n",
    "# 'MAKE' is the brand of the vehicle, this attribute is very unrelated, it is not needed to include\n",
    "x1 = df[['VEHICLECLASS','ENGINESIZE','CYLINDERS','TRANSMISSION','FUELTYPE']]\n",
    "y1 = df[['CO2EMISSIONS']]\n",
    "\n",
    "# Get data from the dataframe for training and testing\n",
    "KNN_1 = x1.copy().values"
   ]
  },
  {
   "cell_type": "code",
   "execution_count": 10,
   "metadata": {},
   "outputs": [],
   "source": [
    "# Use preprocessing.LabelEncoder() to transform the string values into numeric values\n",
    "# Set this function to each attribute for the numeric values could invert_transform back to string values\n",
    "vehicle = preprocessing.LabelEncoder()\n",
    "vehicle_fit = vehicle.fit(x1['VEHICLECLASS'].unique())\n",
    "KNN_1[:,0] = vehicle_fit.transform(KNN_1[:,0])\n",
    "\n",
    "engine = preprocessing.LabelEncoder()\n",
    "engine_fit = engine.fit(x1['ENGINESIZE'].unique())\n",
    "KNN_1[:,1] = engine_fit.transform(KNN_1[:,1])\n",
    "\n",
    "cylinder = preprocessing.LabelEncoder()\n",
    "cylinder_fit = cylinder.fit(x1['CYLINDERS'].unique())\n",
    "KNN_1[:,2] = cylinder_fit.transform(KNN_1[:,2])\n",
    "\n",
    "transmission = preprocessing.LabelEncoder()\n",
    "transmission_fit = transmission.fit(x1['TRANSMISSION'].unique())\n",
    "KNN_1[:,3] = transmission_fit.transform(KNN_1[:,3])\n",
    "\n",
    "fueltype = preprocessing.LabelEncoder()\n",
    "fuel_fit = fueltype.fit(x1['FUELTYPE'].unique())\n",
    "KNN_1[:,4] = fuel_fit.transform(KNN_1[:,4])"
   ]
  },
  {
   "cell_type": "markdown",
   "metadata": {},
   "source": [
    "#### The 'preprocessing' will convert the string values into numeric values,  the values could be call back"
   ]
  },
  {
   "cell_type": "code",
   "execution_count": 11,
   "metadata": {},
   "outputs": [],
   "source": [
    "def callback():\n",
    "    callback_table = pd.DataFrame(columns=['VEHICLECLASS','VEHICLECLASS_NUM',\n",
    "                                           'ENGINESIZE','ENGINESIZE_NUM',\n",
    "                                           'CYLINDERS','CYLINDERS_NUM',\n",
    "                                           'TRANSMISSION','TRANSMISSION_NUM',\n",
    "                                           'FUELTYPE','FUELTYPE_NUM'])\n",
    "    \n",
    "    callback_table['VEHICLECLASS'] = vehicle_fit.inverse_transform(KNN_1[:,0].astype(int))\n",
    "    callback_table['VEHICLECLASS_NUM'] = KNN_1[:,0]\n",
    "    \n",
    "    \n",
    "    callback_table['ENGINESIZE'] = engine_fit.inverse_transform(KNN_1[:,1].astype(int))\n",
    "    callback_table['ENGINESIZE_NUM'] = KNN_1[:,1]\n",
    "    \n",
    "    callback_table['CYLINDERS'] = cylinder_fit.inverse_transform(KNN_1[:,2].astype(int))\n",
    "    callback_table['CYLINDERS_NUM'] = KNN_1[:,2]\n",
    "    \n",
    "    callback_table['TRANSMISSION'] = transmission_fit.inverse_transform(KNN_1[:,3].astype(int))\n",
    "    callback_table['TRANSMISSION_NUM'] = KNN_1[:,3]\n",
    "    \n",
    "    callback_table['FUELTYPE'] = fuel_fit.inverse_transform(KNN_1[:,4].astype(int))\n",
    "    callback_table['FUELTYPE_NUM'] = KNN_1[:,4]\n",
    "    \n",
    "    return callback_table"
   ]
  },
  {
   "cell_type": "code",
   "execution_count": 12,
   "metadata": {},
   "outputs": [],
   "source": [
    "# Prepare the y values (CO2 Emissions), use .copy() to keep previous preprocessing values for future track back\n",
    "KNN_x = KNN_1.copy()\n",
    "KNN_y = np.concatenate(y1.copy().values)"
   ]
  },
  {
   "cell_type": "code",
   "execution_count": 13,
   "metadata": {},
   "outputs": [
    {
     "data": {
      "text/plain": [
       "(250.5, 298.0]      299\n",
       "(203.0, 250.5]      282\n",
       "(155.5, 203.0]      224\n",
       "(298.0, 345.5]      127\n",
       "(345.5, 393.0]       85\n",
       "(393.0, 440.5]       26\n",
       "(107.619, 155.5]     23\n",
       "(440.5, 488.0]        1\n",
       "Name: CO2EMISSIONS, dtype: int64"
      ]
     },
     "execution_count": 13,
     "metadata": {},
     "output_type": "execute_result"
    }
   ],
   "source": [
    "# in practical,CO2 emissions often set into classes(Serious levels) to decrease inaccuracy\n",
    "# and CO2 emissions are numeric values which have too many numbers to encode with, so I manually encode it with the levels\n",
    "# here I use bins to ranges of CO2 emissions, the more balanced could increase the accuracy for KNN\n",
    "df.CO2EMISSIONS.value_counts(bins = 8)"
   ]
  },
  {
   "cell_type": "code",
   "execution_count": 14,
   "metadata": {},
   "outputs": [],
   "source": [
    "# Set a series of thresholds(levels) for CO2 Emission\n",
    "for i in range(len(KNN_y)):\n",
    "    if KNN_y[i] <= 203:\n",
    "        KNN_y[i] = 0\n",
    "    elif KNN_y[i] > 203 and KNN_y[i] <= 250:\n",
    "        KNN_y[i] = 1\n",
    "    elif KNN_y[i] > 250 and KNN_y[i] <= 298:\n",
    "        KNN_y[i] = 2\n",
    "    else:\n",
    "        KNN_y[i] = 3\n",
    "        \n",
    "# Now the CO2 Emission are group by:\n",
    "# Level 0 : 0-203\n",
    "# Level 1 : 203-250\n",
    "# Level 2 : 250-298\n",
    "# Level 3 : >298"
   ]
  },
  {
   "cell_type": "code",
   "execution_count": 15,
   "metadata": {},
   "outputs": [],
   "source": [
    "from sklearn.model_selection import train_test_split\n",
    "X_train, X_test, y_train, y_test = train_test_split(KNN_x, KNN_y, test_size=0.2, random_state=4)"
   ]
  },
  {
   "cell_type": "code",
   "execution_count": 16,
   "metadata": {},
   "outputs": [
    {
     "name": "stdout",
     "output_type": "stream",
     "text": [
      "Train set: (853, 5) (853,)\n",
      "Test set: (214, 5) (214,)\n",
      "Train set Accuracy:  0.8018757327080891\n",
      "Test set Accuracy:  0.7009345794392523\n"
     ]
    }
   ],
   "source": [
    "from sklearn.neighbors import KNeighborsClassifier\n",
    "from sklearn import metrics\n",
    "# Begin with 4 at first, best k will be determined later.\n",
    "k = 4\n",
    "#Train Model and Predict  \n",
    "KNN_class = KNeighborsClassifier(n_neighbors = k).fit(X_train,y_train)\n",
    "\n",
    "y_hat = KNN_class.predict(X_test)\n",
    "print ('Train set:', X_train.shape,  y_train.shape)\n",
    "print ('Test set:', X_test.shape,  y_test.shape)\n",
    "print(\"Train set Accuracy: \", metrics.accuracy_score(y_train, KNN_class.predict(X_train)))\n",
    "print(\"Test set Accuracy: \", metrics.accuracy_score(y_test, y_hat))"
   ]
  },
  {
   "cell_type": "markdown",
   "metadata": {},
   "source": [
    "* The Accuracy is not bad, but another K may be better"
   ]
  },
  {
   "cell_type": "markdown",
   "metadata": {},
   "source": [
    "### 3.2 Finding the best K value\n",
    "One of most important steps for K-NN model is finding the best K value (best accuracy)"
   ]
  },
  {
   "cell_type": "code",
   "execution_count": 17,
   "metadata": {},
   "outputs": [
    {
     "name": "stdout",
     "output_type": "stream",
     "text": [
      "accuracy_mean: \n",
      " [0.69158879 0.69626168 0.76168224 0.70093458 0.73831776 0.74766355\n",
      " 0.76168224 0.75700935 0.72897196 0.71495327 0.71495327 0.71495327\n",
      " 0.72429907 0.71495327 0.70093458 0.68224299 0.70560748 0.70093458\n",
      " 0.70093458 0.68691589]\n",
      "accuracy_std: \n",
      " [0.03157055 0.03143614 0.02912448 0.03129788 0.03004705 0.02969178\n",
      " 0.02912448 0.02931828 0.03038475 0.03085958 0.03085958 0.03085958\n",
      " 0.03054718 0.03085958 0.03129788 0.03182806 0.03115574 0.03129788\n",
      " 0.03129788 0.03170118]\n"
     ]
    }
   ],
   "source": [
    "# the best K value is the one returns best accuracy (close to 1), try to find it for the modelling\n",
    "Ks = 100\n",
    "mean_acc = np.zeros((Ks-1))\n",
    "std_acc = np.zeros((Ks-1))\n",
    "\n",
    "for n in range(1,Ks): \n",
    "    KNN_test = KNeighborsClassifier(n_neighbors = n).fit(X_train,y_train)\n",
    "    test_hat=KNN_test.predict(X_test)\n",
    "    mean_acc[n-1] = metrics.accuracy_score(y_test, test_hat)\n",
    "    std_acc[n-1]=np.std(test_hat==y_test)/np.sqrt(test_hat.shape[0])\n",
    "\n",
    "print('accuracy_mean: \\n', mean_acc[0:20])\n",
    "print('accuracy_std: \\n', std_acc[0:20])"
   ]
  },
  {
   "cell_type": "code",
   "execution_count": 18,
   "metadata": {},
   "outputs": [
    {
     "data": {
      "image/png": "[encoded data removed]",
      "text/plain": [
       "<Figure size 864x360 with 1 Axes>"
      ]
     },
     "metadata": {
      "needs_background": "light"
     },
     "output_type": "display_data"
    },
    {
     "name": "stdout",
     "output_type": "stream",
     "text": [
      "The best accuracy was with 0.7617 with k = 3\n"
     ]
    }
   ],
   "source": [
    "plt.figure(figsize = (12,5))\n",
    "plt.plot(range(1,Ks),mean_acc,'red')\n",
    "plt.fill_between(range(1,Ks),(mean_acc - 1 * std_acc), (mean_acc + 1 * std_acc),  color = 'green', alpha=0.10)\n",
    "plt.legend(('Accuracy ', '+/- std'))\n",
    "plt.ylabel('Accuracy ')\n",
    "plt.xlabel('Number of Neighbors (K)')\n",
    "plt.tight_layout()\n",
    "plt.show()\n",
    "\n",
    "print( \"The best accuracy was with\", mean_acc.max().round(4), \"with k =\", mean_acc.argmax()+1) "
   ]
  },
  {
   "cell_type": "markdown",
   "metadata": {},
   "source": [
    "* The special case where the class is predicted to be the class of the closest training sample (i.e. when k = 1) is called the nearest neighbor algorithm.\n",
    "* Right here the best k is 3"
   ]
  },
  {
   "cell_type": "code",
   "execution_count": 19,
   "metadata": {},
   "outputs": [
    {
     "name": "stdout",
     "output_type": "stream",
     "text": [
      "Train set: (853, 5) (853,)\n",
      "Test set: (214, 5) (214,)\n",
      "Train set Accuracy:  0.8499413833528722\n",
      "Test set Accuracy:  0.7616822429906542\n",
      "R2-score: 0.71\n"
     ]
    }
   ],
   "source": [
    "k = 3\n",
    "#Train Model and Predict  \n",
    "\n",
    "KNN_class = KNeighborsClassifier(n_neighbors = k).fit(X_train,y_train)\n",
    "y_hat = KNN_class.predict(X_test)\n",
    "print ('Train set:', X_train.shape,  y_train.shape)\n",
    "print ('Test set:', X_test.shape,  y_test.shape)\n",
    "print(\"Train set Accuracy: \", metrics.accuracy_score(y_train, KNN_class.predict(X_train)))\n",
    "print(\"Test set Accuracy: \", metrics.accuracy_score(y_test, y_hat))\n",
    "print(\"R2-score: %.2f\" % r2_score(y_hat, y_test) )"
   ]
  },
  {
   "cell_type": "code",
   "execution_count": 20,
   "metadata": {},
   "outputs": [
    {
     "name": "stderr",
     "output_type": "stream",
     "text": [
      "C:\\Users\\Xiang Fu\\anaconda3\\lib\\site-packages\\sklearn\\model_selection\\_split.py:296: FutureWarning: Setting a random_state has no effect since shuffle is False. This will raise an error in 0.24. You should leave random_state to its default (None), or set shuffle=True.\n",
      "  FutureWarning\n"
     ]
    },
    {
     "data": {
      "text/plain": [
       "0.5960366749808745"
      ]
     },
     "execution_count": 20,
     "metadata": {},
     "output_type": "execute_result"
    }
   ],
   "source": [
    "from sklearn.model_selection import cross_val_score, KFold\n",
    "\n",
    "cv = KFold(5, random_state = 1)\n",
    "np.sqrt((-1) * cross_val_score(KNeighborsClassifier(), X_train, y_train, cv=cv, scoring='neg_mean_squared_error').mean())"
   ]
  },
  {
   "cell_type": "code",
   "execution_count": 21,
   "metadata": {},
   "outputs": [
    {
     "name": "stdout",
     "output_type": "stream",
     "text": [
      "Train set: (853, 5) (853,)\n",
      "Test set: (214, 5) (214,)\n",
      "R2-score: 0.76\n"
     ]
    }
   ],
   "source": [
    "from sklearn.neighbors import KNeighborsRegressor\n",
    "k = 3\n",
    "#Train Model and Predict  \n",
    "KNN_regress = KNeighborsRegressor(n_neighbors = k).fit(X_train,y_train)\n",
    "\n",
    "y_regress_hat = KNN_regress.predict(X_test)\n",
    "print ('Train set:', X_train.shape,  y_train.shape)\n",
    "print ('Test set:', X_test.shape,  y_test.shape)\n",
    "\n",
    "print(\"R2-score: %.2f\" % r2_score(y_regress_hat, y_test) )"
   ]
  },
  {
   "cell_type": "markdown",
   "metadata": {},
   "source": [
    "### 3.4 Test the model"
   ]
  },
  {
   "cell_type": "code",
   "execution_count": 22,
   "metadata": {},
   "outputs": [
    {
     "data": {
      "text/html": [
       "<div>\n",
       "<style scoped>\n",
       "    .dataframe tbody tr th:only-of-type {\n",
       "        vertical-align: middle;\n",
       "    }\n",
       "\n",
       "    .dataframe tbody tr th {\n",
       "        vertical-align: top;\n",
       "    }\n",
       "\n",
       "    .dataframe thead th {\n",
       "        text-align: right;\n",
       "    }\n",
       "</style>\n",
       "<table border=\"1\" class=\"dataframe\">\n",
       "  <thead>\n",
       "    <tr style=\"text-align: right;\">\n",
       "      <th></th>\n",
       "      <th>VEHICLECLASS</th>\n",
       "      <th>VEHICLECLASS_NUM</th>\n",
       "      <th>ENGINESIZE</th>\n",
       "      <th>ENGINESIZE_NUM</th>\n",
       "      <th>CYLINDERS</th>\n",
       "      <th>CYLINDERS_NUM</th>\n",
       "      <th>TRANSMISSION</th>\n",
       "      <th>TRANSMISSION_NUM</th>\n",
       "      <th>FUELTYPE</th>\n",
       "      <th>FUELTYPE_NUM</th>\n",
       "    </tr>\n",
       "  </thead>\n",
       "  <tbody>\n",
       "    <tr>\n",
       "      <th>991</th>\n",
       "      <td>SUV - SMALL</td>\n",
       "      <td>11</td>\n",
       "      <td>2.5</td>\n",
       "      <td>10</td>\n",
       "      <td>4</td>\n",
       "      <td>1</td>\n",
       "      <td>AS6</td>\n",
       "      <td>11</td>\n",
       "      <td>X</td>\n",
       "      <td>2</td>\n",
       "    </tr>\n",
       "    <tr>\n",
       "      <th>356</th>\n",
       "      <td>SUV - SMALL</td>\n",
       "      <td>11</td>\n",
       "      <td>1.6</td>\n",
       "      <td>5</td>\n",
       "      <td>4</td>\n",
       "      <td>1</td>\n",
       "      <td>AS6</td>\n",
       "      <td>11</td>\n",
       "      <td>X</td>\n",
       "      <td>2</td>\n",
       "    </tr>\n",
       "    <tr>\n",
       "      <th>468</th>\n",
       "      <td>SUV - SMALL</td>\n",
       "      <td>11</td>\n",
       "      <td>3.6</td>\n",
       "      <td>17</td>\n",
       "      <td>6</td>\n",
       "      <td>3</td>\n",
       "      <td>A6</td>\n",
       "      <td>2</td>\n",
       "      <td>E</td>\n",
       "      <td>1</td>\n",
       "    </tr>\n",
       "  </tbody>\n",
       "</table>\n",
       "</div>"
      ],
      "text/plain": [
       "    VEHICLECLASS VEHICLECLASS_NUM  ENGINESIZE ENGINESIZE_NUM  CYLINDERS  \\\n",
       "991  SUV - SMALL               11         2.5             10          4   \n",
       "356  SUV - SMALL               11         1.6              5          4   \n",
       "468  SUV - SMALL               11         3.6             17          6   \n",
       "\n",
       "    CYLINDERS_NUM TRANSMISSION TRANSMISSION_NUM FUELTYPE FUELTYPE_NUM  \n",
       "991             1          AS6               11        X            2  \n",
       "356             1          AS6               11        X            2  \n",
       "468             3           A6                2        E            1  "
      ]
     },
     "execution_count": 22,
     "metadata": {},
     "output_type": "execute_result"
    }
   ],
   "source": [
    "# find the category's number for each attribute, randomly select the samples\n",
    "a = callback().sample(n=3)\n",
    "b = a.index\n",
    "a"
   ]
  },
  {
   "cell_type": "code",
   "execution_count": 23,
   "metadata": {
    "scrolled": true
   },
   "outputs": [
    {
     "name": "stdout",
     "output_type": "stream",
     "text": [
      "216\n",
      "209\n",
      "272\n"
     ]
    }
   ],
   "source": [
    "# get the value of CO2 Emission from original table\n",
    "print(df['CO2EMISSIONS'][b[0]])\n",
    "print(df['CO2EMISSIONS'][b[1]])\n",
    "print(df['CO2EMISSIONS'][b[2]])"
   ]
  },
  {
   "cell_type": "code",
   "execution_count": 28,
   "metadata": {},
   "outputs": [
    {
     "name": "stdout",
     "output_type": "stream",
     "text": [
      "Prediction 1: [1]\n",
      "Prediction 2: [1]\n",
      "Prediction 3: [2]\n"
     ]
    }
   ],
   "source": [
    "# put the correlate numbers into prediction function:\n",
    "# because the samples are randomly selected, each time the values will be different, please check\n",
    "print('Prediction 1:', KNN_class.predict([[11,10,1,11,2]])) \n",
    "print('Prediction 2:', KNN_class.predict([[11,5,1,11,2]]))\n",
    "print('Prediction 3:', KNN_class.predict([[11,17,3,2,1]]))"
   ]
  },
  {
   "cell_type": "markdown",
   "metadata": {},
   "source": [
    "#### As categoried above, CO2 Emissions are in levels as:\n",
    "* Level 0 : 0-203\n",
    "* Level 1 : 203-250\n",
    "* Level 2 : 250-298\n",
    "* Level 3 : >298\n",
    "\n",
    "Our Predicted values are in correct level, so this model works"
   ]
  },
  {
   "cell_type": "markdown",
   "metadata": {},
   "source": [
    "### 3.5 Visualization of classification"
   ]
  },
  {
   "cell_type": "code",
   "execution_count": 29,
   "metadata": {},
   "outputs": [],
   "source": [
    "X_fig = pd.DataFrame(X_test)\n",
    "X_fig.columns = ['VEHICLECLASS','ENGINESIZE','CYLINDERS','TRANSMISSION','FUELTYPE']"
   ]
  },
  {
   "cell_type": "code",
   "execution_count": 30,
   "metadata": {},
   "outputs": [
    {
     "data": {
      "text/plain": [
       "Text(0, 0.5, 'Engine Size')"
      ]
     },
     "execution_count": 30,
     "metadata": {},
     "output_type": "execute_result"
    },
    {
     "data": {
      "image/png": "[encoded data removed]",
      "text/plain": [
       "<Figure size 864x432 with 1 Axes>"
      ]
     },
     "metadata": {
      "needs_background": "light"
     },
     "output_type": "display_data"
    }
   ],
   "source": [
    "plt.figure(figsize = (12,6))\n",
    "fig1 = plt.scatter(X_fig['CYLINDERS'],X_fig['ENGINESIZE'], c = y_hat, cmap = 'coolwarm', alpha = 1,edgecolor='k')\n",
    "lengend1 = plt.legend(*fig1.legend_elements(),title = \"Rank\",loc='upper left')\n",
    "title1 = plt.title('CO2 Emission Estimate by combination of Engine Size and Cylinders')\n",
    "plt.xlabel('Cylinders')\n",
    "plt.ylabel('Engine Size')"
   ]
  },
  {
   "cell_type": "markdown",
   "metadata": {},
   "source": [
    "* Even though this simple figure contains only two attributes, it still indicates how will be the CO2 emissions under different combinations of these attributes.\n",
    "* because the data have been trained and classified, few attributes have more information than before."
   ]
  },
  {
   "cell_type": "code",
   "execution_count": 31,
   "metadata": {},
   "outputs": [
    {
     "data": {
      "text/plain": [
       "Text(0, 0.5, 'Transmission')"
      ]
     },
     "execution_count": 31,
     "metadata": {},
     "output_type": "execute_result"
    },
    {
     "data": {
      "image/png": "[encoded data removed]",
      "text/plain": [
       "<Figure size 864x432 with 1 Axes>"
      ]
     },
     "metadata": {
      "needs_background": "light"
     },
     "output_type": "display_data"
    }
   ],
   "source": [
    "# try another combination\n",
    "plt.figure(figsize = (12,6))\n",
    "fig2 = plt.scatter(X_fig['VEHICLECLASS'],X_fig['TRANSMISSION'], c = y_hat, cmap = 'coolwarm',alpha = 1,edgecolor='k')\n",
    "legend1 = plt.legend(*fig2.legend_elements(),title = \"Rank\",loc='best')\n",
    "title1 = plt.title('CO2 Emission Estimate by combination of Vehicle Class and Transmission')\n",
    "plt.xlabel('Vehicle Class')\n",
    "plt.ylabel('Transmission')"
   ]
  },
  {
   "cell_type": "markdown",
   "metadata": {},
   "source": [
    "* Most of the time, even few attributes contain huge differences, and K-NN helps to quickly narrow down the range."
   ]
  },
  {
   "cell_type": "markdown",
   "metadata": {},
   "source": [
    "### 3.6 Summary\n",
    "* The K-NN method returns a well classified outcome that reveal a well correlation between 5 attributes of vehicle and CO2 Emissions.\n",
    "* After K-NN modelling, every data is labeled and classified, the combination of attributes will leave to a certain category of CO2 Emission level. \n",
    "* The K-NN method works well with non-numeric attributes, with the normalization (convert to numeric categories), the K-NN method returns accurate prediction.\n",
    "* And classificate y values into several levels (categories) is very helpful on increase the accuracy for K-NN.\n"
   ]
  },
  {
   "cell_type": "markdown",
   "metadata": {},
   "source": [
    "## 4. Fitting with other models"
   ]
  },
  {
   "cell_type": "markdown",
   "metadata": {},
   "source": [
    "### 4.1 Comparison among some popular models"
   ]
  },
  {
   "cell_type": "code",
   "execution_count": 80,
   "metadata": {},
   "outputs": [],
   "source": [
    "x2 = KNN_x.copy()\n",
    "y2 = KNN_y.copy()\n",
    "X_train, X_test, y_train, y_test = train_test_split(x2, y2, test_size=0.2, random_state=6)"
   ]
  },
  {
   "cell_type": "code",
   "execution_count": 81,
   "metadata": {},
   "outputs": [
    {
     "data": {
      "text/html": [
       "<div>\n",
       "<style scoped>\n",
       "    .dataframe tbody tr th:only-of-type {\n",
       "        vertical-align: middle;\n",
       "    }\n",
       "\n",
       "    .dataframe tbody tr th {\n",
       "        vertical-align: top;\n",
       "    }\n",
       "\n",
       "    .dataframe thead th {\n",
       "        text-align: right;\n",
       "    }\n",
       "</style>\n",
       "<table border=\"1\" class=\"dataframe\">\n",
       "  <thead>\n",
       "    <tr style=\"text-align: right;\">\n",
       "      <th></th>\n",
       "      <th>VEHICLECLASS</th>\n",
       "      <th>ENGINESIZE</th>\n",
       "      <th>CYLINDERS</th>\n",
       "      <th>TRANSMISSION</th>\n",
       "      <th>FUELTYPE</th>\n",
       "    </tr>\n",
       "  </thead>\n",
       "  <tbody>\n",
       "    <tr>\n",
       "      <th>0</th>\n",
       "      <td>-0.836760</td>\n",
       "      <td>-0.611880</td>\n",
       "      <td>-1.143051</td>\n",
       "      <td>0.791121</td>\n",
       "      <td>-0.426208</td>\n",
       "    </tr>\n",
       "    <tr>\n",
       "      <th>1</th>\n",
       "      <td>-1.230447</td>\n",
       "      <td>2.609933</td>\n",
       "      <td>2.604153</td>\n",
       "      <td>-0.847168</td>\n",
       "      <td>1.005113</td>\n",
       "    </tr>\n",
       "    <tr>\n",
       "      <th>2</th>\n",
       "      <td>-1.033604</td>\n",
       "      <td>0.092892</td>\n",
       "      <td>0.355831</td>\n",
       "      <td>-1.293974</td>\n",
       "      <td>-0.426208</td>\n",
       "    </tr>\n",
       "    <tr>\n",
       "      <th>3</th>\n",
       "      <td>1.328523</td>\n",
       "      <td>-0.913925</td>\n",
       "      <td>-1.143051</td>\n",
       "      <td>1.535798</td>\n",
       "      <td>1.005113</td>\n",
       "    </tr>\n",
       "    <tr>\n",
       "      <th>4</th>\n",
       "      <td>0.737992</td>\n",
       "      <td>0.898345</td>\n",
       "      <td>1.105272</td>\n",
       "      <td>0.195379</td>\n",
       "      <td>1.005113</td>\n",
       "    </tr>\n",
       "  </tbody>\n",
       "</table>\n",
       "</div>"
      ],
      "text/plain": [
       "   VEHICLECLASS  ENGINESIZE  CYLINDERS  TRANSMISSION  FUELTYPE\n",
       "0     -0.836760   -0.611880  -1.143051      0.791121 -0.426208\n",
       "1     -1.230447    2.609933   2.604153     -0.847168  1.005113\n",
       "2     -1.033604    0.092892   0.355831     -1.293974 -0.426208\n",
       "3      1.328523   -0.913925  -1.143051      1.535798  1.005113\n",
       "4      0.737992    0.898345   1.105272      0.195379  1.005113"
      ]
     },
     "execution_count": 81,
     "metadata": {},
     "output_type": "execute_result"
    }
   ],
   "source": [
    "from sklearn.preprocessing import StandardScaler\n",
    "scaler = StandardScaler().fit(X_train)\n",
    "X_train_scaled = pd.DataFrame(scaler.transform(X_train),columns = x1.columns)\n",
    "X_train_scaled.head()"
   ]
  },
  {
   "cell_type": "code",
   "execution_count": 82,
   "metadata": {},
   "outputs": [
    {
     "name": "stderr",
     "output_type": "stream",
     "text": [
      "C:\\Users\\Xiang Fu\\anaconda3\\lib\\site-packages\\sklearn\\model_selection\\_split.py:296: FutureWarning: Setting a random_state has no effect since shuffle is False. This will raise an error in 0.24. You should leave random_state to its default (None), or set shuffle=True.\n",
      "  FutureWarning\n"
     ]
    }
   ],
   "source": [
    "from sklearn.metrics import mean_squared_error, r2_score\n",
    "from sklearn.model_selection import KFold, cross_val_score\n",
    "Model = []\n",
    "RMSE = []\n",
    "R_2 = []\n",
    "cv = KFold(5, random_state = 1)\n",
    "\n",
    "#Creating a Function to append the cross validation scores of the algorithms\n",
    "def input_scores(name, model, x, y):\n",
    "    Model.append(name)\n",
    "    RMSE.append(np.sqrt((-1) * cross_val_score(model, x, y, cv=cv, scoring='neg_mean_squared_error').mean()))\n",
    "    R_2.append(cross_val_score(model, x, y, cv=cv, scoring='r2').mean())"
   ]
  },
  {
   "cell_type": "code",
   "execution_count": 83,
   "metadata": {},
   "outputs": [],
   "source": [
    "from sklearn.linear_model import LinearRegression, Ridge, Lasso\n",
    "from sklearn.neighbors import KNeighborsRegressor\n",
    "from sklearn.tree import DecisionTreeRegressor\n",
    "from sklearn.ensemble import RandomForestRegressor, GradientBoostingRegressor, AdaBoostRegressor\n",
    "\n",
    "names = ['Linear Regression', 'Ridge Regression', 'Lasso Regression',\n",
    "         'K Neighbors Regressor', 'Decision Tree Regressor', \n",
    "         'Random Forest Regressor', 'Gradient Boosting Regressor',\n",
    "         'Adaboost Regressor']\n",
    "models = [LinearRegression(), Ridge(), Lasso(),\n",
    "          KNeighborsRegressor(), DecisionTreeRegressor(),\n",
    "          RandomForestRegressor(), GradientBoostingRegressor(), \n",
    "          AdaBoostRegressor()]\n",
    "\n",
    "#Running all algorithms\n",
    "for name, model in zip(names, models):\n",
    "    input_scores(name, model, X_train_scaled, y_train)"
   ]
  },
  {
   "cell_type": "code",
   "execution_count": 84,
   "metadata": {},
   "outputs": [
    {
     "name": "stdout",
     "output_type": "stream",
     "text": [
      "FOLLOWING ARE THE TRAINING SCORES: \n"
     ]
    },
    {
     "data": {
      "text/html": [
       "<div>\n",
       "<style scoped>\n",
       "    .dataframe tbody tr th:only-of-type {\n",
       "        vertical-align: middle;\n",
       "    }\n",
       "\n",
       "    .dataframe tbody tr th {\n",
       "        vertical-align: top;\n",
       "    }\n",
       "\n",
       "    .dataframe thead th {\n",
       "        text-align: right;\n",
       "    }\n",
       "</style>\n",
       "<table border=\"1\" class=\"dataframe\">\n",
       "  <thead>\n",
       "    <tr style=\"text-align: right;\">\n",
       "      <th></th>\n",
       "      <th>Model</th>\n",
       "      <th>RMSE</th>\n",
       "      <th>R Squared</th>\n",
       "    </tr>\n",
       "  </thead>\n",
       "  <tbody>\n",
       "    <tr>\n",
       "      <th>0</th>\n",
       "      <td>Linear Regression</td>\n",
       "      <td>0.527107</td>\n",
       "      <td>0.757808</td>\n",
       "    </tr>\n",
       "    <tr>\n",
       "      <th>1</th>\n",
       "      <td>Ridge Regression</td>\n",
       "      <td>0.527087</td>\n",
       "      <td>0.757833</td>\n",
       "    </tr>\n",
       "    <tr>\n",
       "      <th>2</th>\n",
       "      <td>Lasso Regression</td>\n",
       "      <td>1.077911</td>\n",
       "      <td>-0.006362</td>\n",
       "    </tr>\n",
       "    <tr>\n",
       "      <th>3</th>\n",
       "      <td>K Neighbors Regressor</td>\n",
       "      <td>0.509664</td>\n",
       "      <td>0.773777</td>\n",
       "    </tr>\n",
       "    <tr>\n",
       "      <th>4</th>\n",
       "      <td>Decision Tree Regressor</td>\n",
       "      <td>0.486786</td>\n",
       "      <td>0.798906</td>\n",
       "    </tr>\n",
       "    <tr>\n",
       "      <th>5</th>\n",
       "      <td>Random Forest Regressor</td>\n",
       "      <td>0.427238</td>\n",
       "      <td>0.842494</td>\n",
       "    </tr>\n",
       "    <tr>\n",
       "      <th>6</th>\n",
       "      <td>Gradient Boosting Regressor</td>\n",
       "      <td>0.431081</td>\n",
       "      <td>0.837541</td>\n",
       "    </tr>\n",
       "    <tr>\n",
       "      <th>7</th>\n",
       "      <td>Adaboost Regressor</td>\n",
       "      <td>0.509184</td>\n",
       "      <td>0.782342</td>\n",
       "    </tr>\n",
       "  </tbody>\n",
       "</table>\n",
       "</div>"
      ],
      "text/plain": [
       "                         Model      RMSE  R Squared\n",
       "0            Linear Regression  0.527107   0.757808\n",
       "1             Ridge Regression  0.527087   0.757833\n",
       "2             Lasso Regression  1.077911  -0.006362\n",
       "3        K Neighbors Regressor  0.509664   0.773777\n",
       "4      Decision Tree Regressor  0.486786   0.798906\n",
       "5      Random Forest Regressor  0.427238   0.842494\n",
       "6  Gradient Boosting Regressor  0.431081   0.837541\n",
       "7           Adaboost Regressor  0.509184   0.782342"
      ]
     },
     "execution_count": 84,
     "metadata": {},
     "output_type": "execute_result"
    }
   ],
   "source": [
    "evaluation = pd.DataFrame({'Model': Model,\n",
    "                           'RMSE': RMSE,\n",
    "                           'R Squared': R_2})\n",
    "print(\"FOLLOWING ARE THE TRAINING SCORES: \")\n",
    "evaluation"
   ]
  },
  {
   "cell_type": "markdown",
   "metadata": {},
   "source": [
    "### Summary\n",
    "* This comparison suggests that the 'Random Forest Regressor' and 'Gradient Boosting Regressor' could be two optimized models (with lower RMSE and higher R-Squared).\n",
    "* Then it's worth to try applying this two models for this data."
   ]
  },
  {
   "cell_type": "markdown",
   "metadata": {},
   "source": [
    "### 4.2 Random Forest Regressor"
   ]
  },
  {
   "cell_type": "code",
   "execution_count": 96,
   "metadata": {},
   "outputs": [],
   "source": [
    "from sklearn.ensemble import RandomForestClassifier\n",
    "from sklearn.model_selection import GridSearchCV\n",
    "from sklearn.metrics import accuracy_score\n",
    "\n",
    "rfc_100 = RandomForestClassifier(n_estimators=100, random_state=0)"
   ]
  },
  {
   "cell_type": "code",
   "execution_count": 97,
   "metadata": {},
   "outputs": [
    {
     "name": "stdout",
     "output_type": "stream",
     "text": [
      "Model accuracy score with 100 decision-trees : 0.7944\n"
     ]
    }
   ],
   "source": [
    "rfc_100.fit(X_train, y_train)\n",
    "y_pred_100 = rfc_100.predict(X_test)\n",
    "print('Model accuracy score with 100 decision-trees : {0:0.4f}' \n",
    "      .format(accuracy_score(y_test, y_pred_100)))"
   ]
  },
  {
   "cell_type": "code",
   "execution_count": 98,
   "metadata": {},
   "outputs": [
    {
     "data": {
      "text/plain": [
       "ENGINESIZE      0.392181\n",
       "VEHICLECLASS    0.208757\n",
       "TRANSMISSION    0.169846\n",
       "CYLINDERS       0.161706\n",
       "FUELTYPE        0.067509\n",
       "dtype: float64"
      ]
     },
     "execution_count": 98,
     "metadata": {},
     "output_type": "execute_result"
    }
   ],
   "source": [
    "feature_scores = pd.Series(rfc_100.feature_importances_, index=x1.columns).sort_values(ascending=False)\n",
    "\n",
    "feature_scores"
   ]
  },
  {
   "cell_type": "code",
   "execution_count": 88,
   "metadata": {},
   "outputs": [
    {
     "data": {
      "image/png": "[encoded data removed]",
      "text/plain": [
       "<Figure size 720x360 with 1 Axes>"
      ]
     },
     "metadata": {
      "needs_background": "light"
     },
     "output_type": "display_data"
    }
   ],
   "source": [
    "# the most important feature is ENGINESIZE and least important feature is FUELTYPE.\n",
    "f, ax = plt.subplots(figsize=(10, 5))\n",
    "ax = sns.barplot(x=feature_scores, y=feature_scores.index)\n",
    "ax.set_title(\"Visualize feature scores of the features\")\n",
    "ax.set_yticklabels(feature_scores.index)\n",
    "ax.set_xlabel(\"Feature importance score\")\n",
    "ax.set_ylabel(\"Features\")\n",
    "plt.show()"
   ]
  },
  {
   "cell_type": "code",
   "execution_count": 89,
   "metadata": {},
   "outputs": [
    {
     "name": "stdout",
     "output_type": "stream",
     "text": [
      "Confusion matrix\n",
      "\n",
      " [[45  9  0  0]\n",
      " [13 38  7  0]\n",
      " [ 1  8 47  2]\n",
      " [ 0  0  4 40]]\n"
     ]
    }
   ],
   "source": [
    "from sklearn.metrics import confusion_matrix\n",
    "\n",
    "cm = confusion_matrix(y_test, y_pred_100)\n",
    "\n",
    "print('Confusion matrix\\n\\n', cm)"
   ]
  },
  {
   "cell_type": "code",
   "execution_count": 90,
   "metadata": {},
   "outputs": [
    {
     "name": "stdout",
     "output_type": "stream",
     "text": [
      "              precision    recall  f1-score   support\n",
      "\n",
      "           0       0.76      0.83      0.80        54\n",
      "           1       0.69      0.66      0.67        58\n",
      "           2       0.81      0.81      0.81        58\n",
      "           3       0.95      0.91      0.93        44\n",
      "\n",
      "    accuracy                           0.79       214\n",
      "   macro avg       0.80      0.80      0.80       214\n",
      "weighted avg       0.80      0.79      0.79       214\n",
      "\n"
     ]
    }
   ],
   "source": [
    "from sklearn.metrics import classification_report\n",
    "\n",
    "print(classification_report(y_test, y_pred_100))"
   ]
  },
  {
   "cell_type": "markdown",
   "metadata": {},
   "source": [
    "### Conclusion 1\n",
    "1. The Random Forest model does have higher accuracy (0.79) than KNN model (0.71).\n",
    "2. The Fueltype is the weakest attribute for this model."
   ]
  },
  {
   "cell_type": "markdown",
   "metadata": {},
   "source": [
    "### 4.3 Gradient Boost Regressor"
   ]
  },
  {
   "cell_type": "code",
   "execution_count": 91,
   "metadata": {},
   "outputs": [
    {
     "data": {
      "text/plain": [
       "XGBClassifier(alpha=10, base_score=0.5, booster='gbtree', colsample_bylevel=1,\n",
       "              colsample_bynode=1, colsample_bytree=1, gamma=0,\n",
       "              learning_rate=1.0, max_delta_step=0, max_depth=4,\n",
       "              min_child_weight=1, missing=None, n_estimators=100, n_jobs=1,\n",
       "              nthread=None, objective='multi:softprob', random_state=0,\n",
       "              reg_alpha=0, reg_lambda=1, scale_pos_weight=1, seed=None,\n",
       "              silent=None, subsample=1, verbosity=1)"
      ]
     },
     "execution_count": 91,
     "metadata": {},
     "output_type": "execute_result"
    }
   ],
   "source": [
    "import xgboost as xgb\n",
    "from xgboost import XGBClassifier\n",
    "\n",
    "params = {'objective':'binary:logistic','max_depth': 4,\n",
    "            'alpha': 10,'learning_rate': 1.0, 'n_estimators':100}         \n",
    "                  \n",
    "xgb_clf = XGBClassifier(**params)\n",
    "\n",
    "xgb_clf.fit(X_train, y_train)"
   ]
  },
  {
   "cell_type": "code",
   "execution_count": 93,
   "metadata": {},
   "outputs": [
    {
     "data": {
      "image/png": "[encoded data removed]",
      "text/plain": [
       "<Figure size 432x288 with 1 Axes>"
      ]
     },
     "metadata": {
      "needs_background": "light"
     },
     "output_type": "display_data"
    },
    {
     "data": {
      "text/plain": [
       "<Figure size 1152x864 with 0 Axes>"
      ]
     },
     "metadata": {},
     "output_type": "display_data"
    }
   ],
   "source": [
    "xgb.plot_importance(xgb_clf)\n",
    "plt.figure(figsize = (6, 4))\n",
    "plt.show()"
   ]
  },
  {
   "cell_type": "code",
   "execution_count": 99,
   "metadata": {},
   "outputs": [
    {
     "name": "stdout",
     "output_type": "stream",
     "text": [
      "XGBoost model accuracy score: 0.7991\n"
     ]
    }
   ],
   "source": [
    "# The last two attributes (TRANSMISSION and FUELTYPE) have least importance, it different.\n",
    "# Compare the accuracy of XGBoost\n",
    "y_pred = xgb_clf.predict(X_test)\n",
    "print('XGBoost model accuracy score: {0:0.4f}'. format(accuracy_score(y_test, y_pred)))"
   ]
  },
  {
   "cell_type": "markdown",
   "metadata": {},
   "source": [
    "### Conclusion 2\n",
    "1. The XGBoost does have higher accuracy (0.799) than KNN model (0.71).\n",
    "\n",
    "2. XGBoost modle can check the importance of each attribute(feature) in the original dataset.\n",
    "\n",
    "3. The method of XGBoost is based on counting the number of times on each feature that has been splited onto all boosting trees in the model. And the attributes are ordered by according to how many times they appear on the tree.\n"
   ]
  },
  {
   "cell_type": "code",
   "execution_count": null,
   "metadata": {},
   "outputs": [],
   "source": []
  }
 ],
 "metadata": {
  "kernelspec": {
   "display_name": "Python 3",
   "language": "python",
   "name": "python3"
  },
  "language_info": {
   "codemirror_mode": {
    "name": "ipython",
    "version": 3
   },
   "file_extension": ".py",
   "mimetype": "text/x-python",
   "name": "python",
   "nbconvert_exporter": "python",
   "pygments_lexer": "ipython3",
   "version": "3.7.6"
  }
 },
 "nbformat": 4,
 "nbformat_minor": 4
}
